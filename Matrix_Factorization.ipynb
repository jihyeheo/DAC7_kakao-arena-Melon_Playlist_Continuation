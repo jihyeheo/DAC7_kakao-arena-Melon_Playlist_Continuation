{
 "cells": [
  {
   "cell_type": "code",
   "execution_count": 10,
   "metadata": {},
   "outputs": [],
   "source": [
    "# 필요한거 import\n",
    "from implicit.evaluation import  *\n",
    "from implicit.als import AlternatingLeastSquares as ALS\n",
    "from implicit.bpr import BayesianPersonalizedRanking as BPR\n",
    "import numpy as np\n",
    "import os\n",
    "os.environ['KMP_DUPLICATE_LIB_OK']='True'\n",
    "from sklearn.utils import shuffle\n",
    "from scipy.sparse import *"
   ]
  },
  {
   "cell_type": "code",
   "execution_count": 11,
   "metadata": {},
   "outputs": [],
   "source": [
    "# 파일 불러오기\n",
    "import pandas as pd\n",
    "os.chdir('c:/temp')\n",
    "tr = pd.read_json(\"train.json\")\n",
    "te = pd.read_json(\"val.json\")"
   ]
  },
  {
   "cell_type": "code",
   "execution_count": 12,
   "metadata": {},
   "outputs": [],
   "source": [
    "# 태그랑 언급횟수 딕셔너리로 저장\n",
    "ret = []\n",
    "for tag in tr.tags.tolist():\n",
    "    ret += tag\n",
    "from collections import Counter\n",
    "r = dict(Counter(ret))"
   ]
  },
  {
   "cell_type": "code",
   "execution_count": 13,
   "metadata": {},
   "outputs": [],
   "source": [
    "# 내림차순 정렬\n",
    "r = sorted(r.items(), key=lambda x: -x[1])"
   ]
  },
  {
   "cell_type": "code",
   "execution_count": 14,
   "metadata": {},
   "outputs": [],
   "source": [
    "# 상위권 태그 추출\n",
    "top_tags = [x[0] for x in r[:1000]]"
   ]
  },
  {
   "cell_type": "code",
   "execution_count": 15,
   "metadata": {},
   "outputs": [],
   "source": [
    "# train, val 안 songs,tags,ids 리스트로 변환\n",
    "tr_songs = tr.songs.tolist()\n",
    "te_songs = te.songs.tolist()\n",
    "tr_tags = tr.tags.tolist()\n",
    "te_tags = te.tags.tolist()\n",
    "te_ids = te.id.tolist()"
   ]
  },
  {
   "cell_type": "code",
   "execution_count": 16,
   "metadata": {},
   "outputs": [],
   "source": [
    "# tr 변수에 view, tag_to_idx 값 추가\n",
    "from itertools import groupby\n",
    "tr = []\n",
    "iid_to_idx = {}\n",
    "tag_to_idx = {} \n",
    "idx = 0\n",
    "\n",
    "for i, l in enumerate(tr_songs):\n",
    "    view = l\n",
    "    for item_id in view:\n",
    "        if item_id not in iid_to_idx:\n",
    "            iid_to_idx[item_id] = idx\n",
    "            idx += 1\n",
    "    view = [iid_to_idx[x] for x in view]\n",
    "    tr.append(view)\n",
    "\n",
    "idx = 0\n",
    "n_items = len(iid_to_idx)\n",
    "for i, tags in enumerate(tr_tags):\n",
    "    for tag in tags:\n",
    "        if tag not in tag_to_idx:\n",
    "            tag_to_idx[tag] = n_items + idx\n",
    "            idx += 1\n",
    "    tr[i].extend([tag_to_idx[x] for x in tags])\n",
    "n_tags = len(tag_to_idx)\n",
    "# n_items = len(iid_to_idx)\n",
    "# n_tags = len(tag_to_idx)"
   ]
  },
  {
   "cell_type": "code",
   "execution_count": 17,
   "metadata": {},
   "outputs": [],
   "source": [
    "# te변수에 ret 추가\n",
    "from itertools import groupby\n",
    "te = []\n",
    "\n",
    "idx = 0\n",
    "for i, l in enumerate(te_songs):\n",
    "    view = l\n",
    "    ret = [] \n",
    "    for item_id in view:\n",
    "        if item_id not in iid_to_idx:\n",
    "            continue\n",
    "        ret.append(iid_to_idx[item_id])\n",
    "    te.append(ret)\n",
    "idx = 0\n",
    "for i, tags in enumerate(te_tags):\n",
    "    ret = []\n",
    "    for tag in tags:\n",
    "        if tag not in tag_to_idx:\n",
    "            continue\n",
    "        ret.append(tag)\n",
    "    te[i].extend([tag_to_idx[x] for x in ret])"
   ]
  },
  {
   "cell_type": "code",
   "execution_count": 19,
   "metadata": {},
   "outputs": [],
   "source": [
    "# tr변수 내 데이터 섞기\n",
    "tr = shuffle(tr)"
   ]
  },
  {
   "cell_type": "code",
   "execution_count": 20,
   "metadata": {},
   "outputs": [],
   "source": [
    "# 데이터 딕셔너리화\n",
    "idx_to_iid = {x:y for(y,x) in iid_to_idx.items()}\n",
    "idx_to_tag = {(x - n_items):y for(y,x) in tag_to_idx.items()}"
   ]
  },
  {
   "cell_type": "code",
   "execution_count": 49,
   "metadata": {
    "scrolled": true
   },
   "outputs": [
    {
     "ename": "ValueError",
     "evalue": "setting an array element with a sequence.",
     "output_type": "error",
     "traceback": [
      "\u001b[1;31m---------------------------------------------------------------------------\u001b[0m",
      "\u001b[1;31mTypeError\u001b[0m                                 Traceback (most recent call last)",
      "\u001b[1;31mTypeError\u001b[0m: float() argument must be a string or a number, not 'list'",
      "\nThe above exception was the direct cause of the following exception:\n",
      "\u001b[1;31mValueError\u001b[0m                                Traceback (most recent call last)",
      "\u001b[1;32m<ipython-input-49-b8c198fb5b6b>\u001b[0m in \u001b[0;36m<module>\u001b[1;34m\u001b[0m\n\u001b[0;32m      1\u001b[0m \u001b[1;32mfrom\u001b[0m \u001b[0mscipy\u001b[0m\u001b[1;33m.\u001b[0m\u001b[0msparse\u001b[0m \u001b[1;32mimport\u001b[0m \u001b[0mcsr_matrix\u001b[0m\u001b[1;33m\u001b[0m\u001b[1;33m\u001b[0m\u001b[0m\n\u001b[0;32m      2\u001b[0m \u001b[1;33m\u001b[0m\u001b[0m\n\u001b[1;32m----> 3\u001b[1;33m \u001b[0mtr_csr\u001b[0m \u001b[1;33m=\u001b[0m \u001b[0mcsr_matrix\u001b[0m\u001b[1;33m(\u001b[0m\u001b[0mtr\u001b[0m\u001b[1;33m.\u001b[0m\u001b[0mastype\u001b[0m\u001b[1;33m(\u001b[0m\u001b[0mfloat\u001b[0m\u001b[1;33m)\u001b[0m\u001b[1;33m,\u001b[0m \u001b[1;33m(\u001b[0m\u001b[0mn_tags\u001b[0m\u001b[1;33m,\u001b[0m\u001b[0mn_items\u001b[0m\u001b[1;33m)\u001b[0m\u001b[1;33m)\u001b[0m\u001b[1;33m\u001b[0m\u001b[1;33m\u001b[0m\u001b[0m\n\u001b[0m\u001b[0;32m      4\u001b[0m \u001b[0mte_csr\u001b[0m \u001b[1;33m=\u001b[0m \u001b[0mcsr_matrix\u001b[0m\u001b[1;33m(\u001b[0m\u001b[0mte\u001b[0m\u001b[1;33m.\u001b[0m\u001b[0mastype\u001b[0m\u001b[1;33m(\u001b[0m\u001b[0mfloat\u001b[0m\u001b[1;33m)\u001b[0m\u001b[1;33m,\u001b[0m \u001b[1;33m(\u001b[0m\u001b[0mn_tags\u001b[0m\u001b[1;33m,\u001b[0m\u001b[0mn_items\u001b[0m\u001b[1;33m)\u001b[0m\u001b[1;33m)\u001b[0m\u001b[1;33m\u001b[0m\u001b[1;33m\u001b[0m\u001b[0m\n\u001b[0;32m      5\u001b[0m \u001b[1;33m\u001b[0m\u001b[0m\n",
      "\u001b[1;31mValueError\u001b[0m: setting an array element with a sequence."
     ]
    }
   ],
   "source": [
    "# 희소행렬 생성\n",
    "from scipy.sparse import csr_matrix\n",
    "\n",
    "tr_csr = csr_matrix(tr.astype(float), (n_tags,n_items))\n",
    "te_csr = csr_matrix(te.astype(float), (n_tags,n_items))\n",
    "\n",
    "# tr_csr = rec_util.lil_to_csr(tr, (len(tr), n_tags + n_items))\n",
    "# te_csr = rec_util.lil_to_csr(te, (len(te), n_tags + n_items))"
   ]
  },
  {
   "cell_type": "code",
   "execution_count": null,
   "metadata": {},
   "outputs": [],
   "source": [
    "# 희소행렬 행방향으로 붙이기\n",
    "import scipy.sparse\n",
    "r = scipy.sparse.vstack([te_csr, tr_csr])\n",
    "r = csr_matrix(r)"
   ]
  },
  {
   "cell_type": "code",
   "execution_count": null,
   "metadata": {},
   "outputs": [],
   "source": [
    "# als 모델링\n",
    "als_model = ALS(factors=128, regularization=0.08)\n",
    "als_model.fit(r.T * 15.0)"
   ]
  },
  {
   "cell_type": "code",
   "execution_count": null,
   "metadata": {},
   "outputs": [],
   "source": [
    "# 적용\n",
    "item_model = ALS(use_gpu=False)\n",
    "tag_model = ALS(use_gpu=False)\n",
    "item_model.user_factors = als_model.user_factors\n",
    "tag_model.user_factors = als_model.user_factors"
   ]
  },
  {
   "cell_type": "code",
   "execution_count": null,
   "metadata": {},
   "outputs": [],
   "source": [
    "item_model.item_factors = als_model.item_factors[:n_items]\n",
    "tag_model.item_factors = als_model.item_factors[n_items:]"
   ]
  },
  {
   "cell_type": "code",
   "execution_count": null,
   "metadata": {},
   "outputs": [],
   "source": [
    "# 학습된 추천 아이템, 태그 저장\n",
    "item_ret = []\n",
    "tag_ret = []\n",
    "from tqdm.auto import tqdm\n",
    "for u in tqdm(range(te_csr.shape[0])):\n",
    "    item_rec = item_model.recommend(u, item_rec_csr, N=100)\n",
    "    item_rec = [idx_to_iid[x[0]] for x in item_rec]\n",
    "    tag_rec = tag_model.recommend(u, tag_rec_csr, N=100)\n",
    "    tag_rec = [idx_to_tag[x[0]] for x in tag_rec if x[0] in idx_to_tag]\n",
    "    item_ret.append(item_rec)\n",
    "    tag_ret.append(tag_rec)"
   ]
  },
  {
   "cell_type": "code",
   "execution_count": null,
   "metadata": {},
   "outputs": [],
   "source": [
    "tag_model.item_factors"
   ]
  },
  {
   "cell_type": "code",
   "execution_count": null,
   "metadata": {},
   "outputs": [],
   "source": [
    "# id, songs, tags로 데이터 정렬\n",
    "returnval = []\n",
    "for _id, rec, tag_rec in zip(te_ids, item_ret, tag_ret):\n",
    "    returnval.append({\n",
    "        \"id\": _id,\n",
    "        \"songs\": rec[:100],\n",
    "        \"tags\": tag_rec[:10]\n",
    "    })"
   ]
  },
  {
   "cell_type": "code",
   "execution_count": null,
   "metadata": {},
   "outputs": [],
   "source": [
    "# 제출용 파일 생성\n",
    "import json\n",
    "with open('ret.json', 'w', encoding='utf-8') as f:\n",
    "    f.write(json.dumps(returnval, ensure_ascii=False))"
   ]
  }
 ],
 "metadata": {
  "kernelspec": {
   "display_name": "Python 3",
   "language": "python",
   "name": "python3"
  },
  "language_info": {
   "codemirror_mode": {
    "name": "ipython",
    "version": 3
   },
   "file_extension": ".py",
   "mimetype": "text/x-python",
   "name": "python",
   "nbconvert_exporter": "python",
   "pygments_lexer": "ipython3",
   "version": "3.8.5"
  }
 },
 "nbformat": 4,
 "nbformat_minor": 4
}
